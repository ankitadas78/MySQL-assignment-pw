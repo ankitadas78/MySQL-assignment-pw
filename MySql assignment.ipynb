{
 "cells": [
  {
   "cell_type": "markdown",
   "id": "0259ac65-e0b3-44de-818b-8905f05a919f",
   "metadata": {},
   "source": [
    "ques1_what is database? differentiate between SQL & NoSQL database."
   ]
  },
  {
   "cell_type": "markdown",
   "id": "65cf15f4-b8ee-4db6-a0bc-873b555b7841",
   "metadata": {},
   "source": [
    "DATABASE:\n",
    "A database is an organized collection of structured information, or data, typically stored electronically in a computer system. A database is usually controlled by a database management system (DBMS).\n",
    "\n",
    "DIFFERENTIATE BETWEEN SQL & NOSQL: \n",
    "SQL databases are relational, and NoSQL databases are non-relational.\n",
    "SQL databases use structured query language (SQL) and have a predefined schema. NoSQL databases have dynamic schemas for unstructured data.\n",
    "SQL databases are vertically scalable, while NoSQL databases are horizontally scalable.\n",
    "SQL databases are table-based, while NoSQL databases are document, key-value, graph, or wide-column stores.\n",
    "SQL databases are better for multi-row transactions, while NoSQL is better for unstructured data like documents or JSON."
   ]
  },
  {
   "cell_type": "markdown",
   "id": "6e717c08-da80-41b7-af77-c10040ef5ea6",
   "metadata": {},
   "source": [
    "ques2_ what is DDL? explain why CREATE,DROP,ALTER AND TRUNCATE are used with an example."
   ]
  },
  {
   "cell_type": "markdown",
   "id": "782243d5-6e16-44e5-9c30-9d4af3290ec9",
   "metadata": {},
   "source": [
    "data definition language (DDL) describes the portion of SQL that creates, alters, and deletes database objects. These database objects include schemas, tables, views, sequences, catalogs, indexes, variables, masks, permissions, and aliases.\n",
    "\n",
    "CREATE TABLE\n",
    "The CREATE TABLE command creates a new table in the database.\n",
    "The following SQL creates a table called \"Persons\" that contains five columns: PersonID, LastName, FirstName, Address, and City:\n",
    "\n",
    "CREATE TABLE Persons (\n",
    "    PersonID int,\n",
    "    LastName varchar(255),\n",
    "    FirstName varchar(255),\n",
    "    Address varchar(255),\n",
    "    City varchar(255)\n",
    ");\n",
    "\n",
    "ALTER TABLE\n",
    "The ALTER TABLE command adds, deletes, or modifies columns in a table.\n",
    "The ALTER TABLE command also adds and deletes various constraints in a table.\n",
    "The following SQL adds an \"Email\" column to the \"Customers\" table:\n",
    "\n",
    "Example\n",
    "ALTER TABLE Customers\n",
    "ADD Email varchar(255);\n",
    "\n",
    "DROP TABLE\n",
    "The DROP TABLE command deletes a table in the database.\n",
    "The following SQL deletes the table \"Shippers\":\n",
    "\n",
    "Example\n",
    "DROP TABLE Shippers;\n",
    "\n",
    "TRUNCATE TABLE\n",
    "The TRUNCATE TABLE command deletes the data inside a table, but not the table itself.\n",
    "The following SQL truncates the table \"Categories\": \n",
    "\n",
    "Example\n",
    "TRUNCATE TABLE Categories;\n"
   ]
  },
  {
   "cell_type": "markdown",
   "id": "4c69be04-fbe6-4e8e-adf9-dec5287cadfa",
   "metadata": {},
   "source": [
    "ques3_what is DML?Explain INSERT,UPDATE & DELETE with an example."
   ]
  },
  {
   "cell_type": "markdown",
   "id": "9040b24a-5ac7-48f7-96fe-2c3ec2a7419b",
   "metadata": {},
   "source": [
    "A DML (data manipulation language) refers to a computer programming language that allows you to add (insert), delete (delete), and alter (update) data in a database. A DML is typically a sublanguage of a larger database language like SQL, with the DML containing some of the language's operators.\n",
    "\n",
    "The SQL INSERT, UPDATE, and DELETE commands enable SQL users to manipulate and modify data:\n",
    "The INSERT statement introduces new rows into an existing table.\n",
    "The DELETE statement removes a row or combination of rows from a table.\n",
    "The UPDATE statement enables users to update a row or group of rows in a table.\n",
    "\n",
    "example:\n",
    "In the following example, we will insert 2 rows into the students table, one for each student:\n",
    "\n",
    "INSERT INTO Students(StudentId, StudentName, DepartmentId, DateOfBirth)\n",
    "              VALUES(11, 'Ahmad', 4, '1997-10-12');\n",
    "\n",
    "INSERT INTO Students VALUES(12, 'Aly', 4, '1996-10-12');\n",
    "\n",
    "\n",
    "In the following UPDATE statement, we will update the DepartmentId for the Student with StudentId = 6 to be 3:\n",
    "\n",
    "UPDATE Students\n",
    "SET DepartmentId = 3 \n",
    "WHERE StudentId = 6;\n",
    "\n",
    "In the following statement, we will delete two students with StudentId 11 and 12:\n",
    "\n",
    "DELETE FROM Students WHERE StudentId = 11 OR StudentId = 12;"
   ]
  },
  {
   "cell_type": "markdown",
   "id": "ef231f5e-a528-4b08-b837-aa897d872aa2",
   "metadata": {},
   "source": [
    "ques4_what is DQL? explain SELECT with an example."
   ]
  },
  {
   "cell_type": "markdown",
   "id": "d7766929-7c23-44b9-9e34-8d1c279e150f",
   "metadata": {},
   "source": [
    "Data Query Language (DQL) is a critical subset of SQL (Structured Query Language) used primarily for querying and retrieving data from a database.\n",
    "\n",
    "The SELECT command is used to query or retrieve data from a table in the database. It is used to retrieve a subset of records from one or more tables.\n",
    "\n",
    "Given a table T, the query SELECT * FROM T will result in all the elements of all the rows of the table being shown. With the same table, the query SELECT C1 FROM T will result in the elements from the column C1 of all the rows of the table being shown."
   ]
  },
  {
   "cell_type": "markdown",
   "id": "4faab2bc-0466-4f4d-b22b-f1dc3a10f292",
   "metadata": {},
   "source": [
    "ques5_explain primary key & foreign key."
   ]
  },
  {
   "cell_type": "markdown",
   "id": "961ac831-b9d3-46ce-9e6a-23ee6be0e871",
   "metadata": {},
   "source": [
    "A primary key is a unique identifier for each record in a table. A foreign key establishes a relationship between tables by referencing the primary key of another table. Basic. Ensures uniqueness and data integrity within a single table."
   ]
  },
  {
   "cell_type": "markdown",
   "id": "8cb3b158-3662-4a1f-9f94-9eb7b16ea739",
   "metadata": {},
   "source": [
    "ques6_Write a python code to connect MySQL to python.Explain the cursor() and execute() method."
   ]
  },
  {
   "cell_type": "markdown",
   "id": "679ef2af-5b13-4434-9fdf-42ed654fe1a4",
   "metadata": {},
   "source": [
    "import mysql.connector\n",
    "\n",
    "mydb = mysql.connector.connect(\n",
    "  host=\"localhost\",\n",
    "  user=\"yourusername\",\n",
    "  password=\"yourpassword\"\n",
    ")\n",
    "\n",
    "print(mydb)\n",
    "\n",
    "\n",
    "USES OF CURSOR() & EXECUTE() METHOD:\n",
    "Allows Python code to execute PostgreSQL command in a database session. Cursors are created by the connection. cursor() method: they are bound to the connection for the entire lifetime and all the commands are executed in the context of the database session wrapped by the connection"
   ]
  },
  {
   "cell_type": "markdown",
   "id": "f6c28f37-c135-4df5-9eaa-14a213ac17d7",
   "metadata": {},
   "source": [
    "ques7_give the order of execution of SQL clauses in an SQL query"
   ]
  },
  {
   "cell_type": "markdown",
   "id": "42fcb462-b9db-4127-8871-ac1f1f32c08f",
   "metadata": {},
   "source": [
    "FROM/JOIN. The FROM and/or JOIN clauses are executed first to determine the data of interest.\n",
    "WHERE. The WHERE clause is executed to filter out records that do not meet the constraints.\n",
    "GROUP BY. ...\n",
    "HAVING. ...\n",
    "SELECT. ...\n",
    "ORDER BY. ...\n",
    "LIMIT/OFFSET."
   ]
  }
 ],
 "metadata": {
  "kernelspec": {
   "display_name": "Python 3 (ipykernel)",
   "language": "python",
   "name": "python3"
  },
  "language_info": {
   "codemirror_mode": {
    "name": "ipython",
    "version": 3
   },
   "file_extension": ".py",
   "mimetype": "text/x-python",
   "name": "python",
   "nbconvert_exporter": "python",
   "pygments_lexer": "ipython3",
   "version": "3.10.8"
  }
 },
 "nbformat": 4,
 "nbformat_minor": 5
}
